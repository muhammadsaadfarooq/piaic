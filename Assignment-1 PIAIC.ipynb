{
 "cells": [
  {
   "cell_type": "markdown",
   "metadata": {},
   "source": [
    "<H1> Assignment PIAIC BATCH-3 (3:30 - 6:30 ) </H1>  <H3> Muhammad Saad Farooq - PIAIC65070 </H3>\n",
    "<HR>\n",
    "    <HR>\n",
    "        <HR>"
   ]
  },
  {
   "cell_type": "markdown",
   "metadata": {},
   "source": [
    "<h2> PEMDAS </h2> \n",
    "Order of operation - PEMDAS\n",
    "\t1. Parentheses ( ) <br>\n",
    "\t2. Exponent **  <br>\n",
    "\t3. Multiplication * <br>\n",
    "\t4. Division / // % <br>\n",
    "\t5. Addition + <br>\n",
    "\t6. Subtraction -<br>\n",
    "\n",
    "\t- after PEMDAS order goes left to right\n",
    "\t- use parentheses to override order"
   ]
  },
  {
   "cell_type": "markdown",
   "metadata": {},
   "source": [
    "# <h5> Expression : </h5> <hr> <b> 7*2 + (7+3 *(5-2))/4 + 2 -5 +9 * (6+8/7)</b>"
   ]
  },
  {
   "cell_type": "code",
   "execution_count": 54,
   "metadata": {},
   "outputs": [
    {
     "name": "stdout",
     "output_type": "stream",
     "text": [
      "79.28571428571428\n"
     ]
    }
   ],
   "source": [
    "x = 7*2 + (7+3 *(5-2))/4 + 2 -5 +9 * (6+8/7)\n",
    "print(x)"
   ]
  },
  {
   "cell_type": "code",
   "execution_count": 55,
   "metadata": {},
   "outputs": [],
   "source": [
    "#7*2 + (7+3(3)) / 4 + 2 -5 + 9 * (6+8/7)\n",
    "#7*2 + (7+9) / 4 + 2 -5 + 9 * (6+8/7)\n",
    "#7*2 + (16) / 4 + 2 -5 + 9 * (6+8/7)\n",
    "#7*2 + (16) / 4 + 2 -5 + 9 * (6 + 1.1428571428571428)\n",
    "#7*2 + 16 / 4 + 2 -5 + 9 * 7.142857142857142\n",
    "#14 + 16 / 4 + 2 -5 + 9 * 7.142857142857142\n",
    "#14 + 16 / 4 + 2 -5 +64.28571428571428\n",
    "#14 + 4 + 2 -5 +64.28571428571428\n",
    "#20 - 5  +64.28571428571428\n",
    "#20 + 59.28571428571428\n",
    "\n",
    "# 79.28571428571428  Answer\n",
    "\n",
    "\n"
   ]
  },
  {
   "cell_type": "markdown",
   "metadata": {},
   "source": [
    "<h1> String Methods </h2> "
   ]
  },
  {
   "attachments": {
    "image.png": {
     "image/png": "[encoded data removed]"
    }
   },
   "cell_type": "markdown",
   "metadata": {},
   "source": [
    "Example ![image.png](attachment:image.png)"
   ]
  },
  {
   "cell_type": "code",
   "execution_count": 56,
   "metadata": {},
   "outputs": [],
   "source": [
    "name= \"saad farooq is a Good Guy \""
   ]
  },
  {
   "cell_type": "code",
   "execution_count": null,
   "metadata": {},
   "outputs": [],
   "source": []
  },
  {
   "cell_type": "code",
   "execution_count": 57,
   "metadata": {},
   "outputs": [
    {
     "data": {
      "text/plain": [
       "'Saad'"
      ]
     },
     "execution_count": 57,
     "metadata": {},
     "output_type": "execute_result"
    }
   ],
   "source": [
    "#String Capatalize\n",
    "name =\"saad\"\n",
    "name.capitalize()"
   ]
  },
  {
   "cell_type": "code",
   "execution_count": 58,
   "metadata": {},
   "outputs": [
    {
     "data": {
      "text/plain": [
       "'                                            Python is awesome                                             '"
      ]
     },
     "execution_count": 58,
     "metadata": {},
     "output_type": "execute_result"
    }
   ],
   "source": [
    "# Center Method \n",
    "#Padding OF String\n",
    "line = \"Python is awesome\"\n",
    "line.center(106)"
   ]
  },
  {
   "cell_type": "code",
   "execution_count": 59,
   "metadata": {},
   "outputs": [
    {
     "data": {
      "text/plain": [
       "'____________________________________________Python is awesome_____________________________________________'"
      ]
     },
     "execution_count": 59,
     "metadata": {},
     "output_type": "execute_result"
    }
   ],
   "source": [
    "# Center Method \n",
    "line = \"Python is awesome\"\n",
    "line.center(106,'_')"
   ]
  },
  {
   "cell_type": "code",
   "execution_count": 60,
   "metadata": {},
   "outputs": [
    {
     "data": {
      "text/plain": [
       "' python is awesome'"
      ]
     },
     "execution_count": 60,
     "metadata": {},
     "output_type": "execute_result"
    }
   ],
   "source": [
    "#CaseFold Method\n",
    "#Change all Captital Characters to Small\n",
    "\n",
    "line = \" Python is Awesome\"\n",
    "line.casefold()"
   ]
  },
  {
   "cell_type": "code",
   "execution_count": 61,
   "metadata": {},
   "outputs": [
    {
     "data": {
      "text/plain": [
       "4"
      ]
     },
     "execution_count": 61,
     "metadata": {},
     "output_type": "execute_result"
    }
   ],
   "source": [
    "#Count Method\n",
    "#Counts Number of Characters appers in String\n",
    "\n",
    "line = \"saaad is a \"\n",
    "line.count('a')"
   ]
  },
  {
   "cell_type": "code",
   "execution_count": 62,
   "metadata": {},
   "outputs": [
    {
     "data": {
      "text/plain": [
       "True"
      ]
     },
     "execution_count": 62,
     "metadata": {},
     "output_type": "execute_result"
    }
   ],
   "source": [
    "#EndwithSwitch Method\n",
    "#It checks the string ends with specific characters\n",
    "line = \"Python is very Easy to learn\"\n",
    "line.endswith('learn')"
   ]
  },
  {
   "cell_type": "code",
   "execution_count": 63,
   "metadata": {},
   "outputs": [
    {
     "data": {
      "text/plain": [
       "False"
      ]
     },
     "execution_count": 63,
     "metadata": {},
     "output_type": "execute_result"
    }
   ],
   "source": [
    "#EndwithSwitch Method\n",
    "#It checks the string ends with specific characters define with start : End Index of characters\n",
    "line = \"Python is very Easy to learn\"\n",
    "line.endswith('learn',0,15)"
   ]
  },
  {
   "cell_type": "code",
   "execution_count": 64,
   "metadata": {},
   "outputs": [
    {
     "data": {
      "text/plain": [
       "'saad     is      good    see'"
      ]
     },
     "execution_count": 64,
     "metadata": {},
     "output_type": "execute_result"
    }
   ],
   "source": [
    "#expandable Method\n",
    "#it will adds 8spaces to \"\\t\" character\n",
    "\n",
    "line = \"saad \\t is \\t good \\t see\"\n",
    "line.expandtabs()"
   ]
  },
  {
   "cell_type": "code",
   "execution_count": 65,
   "metadata": {},
   "outputs": [
    {
     "data": {
      "text/plain": [
       "'saad                 is                  good                see'"
      ]
     },
     "execution_count": 65,
     "metadata": {},
     "output_type": "execute_result"
    }
   ],
   "source": [
    "#expandable with arguments\n",
    "#it will adds given argument to \"\\t\" character\n",
    "\n",
    "line = \"saad \\t is \\t good \\t see\"\n",
    "line.expandtabs(20)"
   ]
  },
  {
   "cell_type": "code",
   "execution_count": 66,
   "metadata": {},
   "outputs": [],
   "source": [
    "#Encode Method \n",
    "#it encodes the string \n",
    "\n",
    "line = \"saad $  is a good person\"\n",
    "ss = line.encode()\n"
   ]
  },
  {
   "cell_type": "code",
   "execution_count": 67,
   "metadata": {},
   "outputs": [
    {
     "data": {
      "text/plain": [
       "8"
      ]
     },
     "execution_count": 67,
     "metadata": {},
     "output_type": "execute_result"
    }
   ],
   "source": [
    "#Python String find()\n",
    "#it returns first index of character in finding query\n",
    "\n",
    "line =\"saad is 23 years\"\n",
    "line.find('23')"
   ]
  },
  {
   "cell_type": "markdown",
   "metadata": {},
   "source": [
    "#Python Format Method\n",
    "# Basic formatting for default, positional and keyword arguments\n",
    "\n",
    "https://www.programiz.com/python-programming/methods/string/format"
   ]
  },
  {
   "cell_type": "raw",
   "metadata": {},
   "source": [
    "format() method takes any number of parameters. But, is divided into two types of parameters:\n",
    "\n",
    "Positional parameters - list of parameters that can be accessed with index of parameter inside curly braces {index}\n",
    "Keyword parameters - list of parameters of type key=value, that can be accessed with key of parameter inside curly braces {key}"
   ]
  },
  {
   "cell_type": "code",
   "execution_count": 68,
   "metadata": {},
   "outputs": [],
   "source": [
    "string1 = \"Muhammad Saad {} is Software {}\""
   ]
  },
  {
   "cell_type": "code",
   "execution_count": 69,
   "metadata": {},
   "outputs": [
    {
     "name": "stdout",
     "output_type": "stream",
     "text": [
      "Muhammad Saad Farooq is Software Engineer\n"
     ]
    }
   ],
   "source": [
    "print(string1.format('Farooq','Engineer'))"
   ]
  },
  {
   "cell_type": "code",
   "execution_count": 70,
   "metadata": {},
   "outputs": [],
   "source": [
    "string2 = \"Muhammad Saad {k1} is Software {k2}\""
   ]
  },
  {
   "cell_type": "code",
   "execution_count": 71,
   "metadata": {},
   "outputs": [
    {
     "name": "stdout",
     "output_type": "stream",
     "text": [
      "Muhammad Saad Farooq is Software Ali\n"
     ]
    }
   ],
   "source": [
    "print(string2.format(k1=\"Farooq\", k2 = \"Ali\"))"
   ]
  },
  {
   "cell_type": "code",
   "execution_count": 72,
   "metadata": {},
   "outputs": [
    {
     "name": "stdout",
     "output_type": "stream",
     "text": [
      "The number is:123\n",
      "The float number is:123.456790\n"
     ]
    }
   ],
   "source": [
    "# integer arguments\n",
    "print(\"The number is:{:d}\".format(123))\n",
    "\n",
    "# float arguments\n",
    "print(\"The float number is:{:f}\".format(123.4567898))\n"
   ]
  },
  {
   "cell_type": "markdown",
   "metadata": {},
   "source": [
    "#index Method\n",
    "\"\"\"\n",
    "The index() method is similar to find() method for strings.\n",
    "\n",
    "The only difference is that find() method returns -1 if the substring is not found, whereas index() throws an exception\n",
    "\"\"\""
   ]
  },
  {
   "cell_type": "code",
   "execution_count": 73,
   "metadata": {},
   "outputs": [
    {
     "data": {
      "text/plain": [
       "11"
      ]
     },
     "execution_count": 73,
     "metadata": {},
     "output_type": "execute_result"
    }
   ],
   "source": [
    "ss = \"My name is saad\"\n",
    "ss.index(\"saad\")"
   ]
  },
  {
   "cell_type": "code",
   "execution_count": 74,
   "metadata": {},
   "outputs": [
    {
     "data": {
      "text/plain": [
       "9"
      ]
     },
     "execution_count": 74,
     "metadata": {},
     "output_type": "execute_result"
    }
   ],
   "source": [
    "ss.index(\"s\",5,15)"
   ]
  },
  {
   "cell_type": "markdown",
   "metadata": {},
   "source": [
    "<hr><h4> isalnum() returns: </h4>\n",
    "<ul>\n",
    "<li>True if all characters in the string are alphanumeric\n",
    "<li>False if at least one character is not alphanumeric\n",
    "</ul>"
   ]
  },
  {
   "cell_type": "markdown",
   "metadata": {},
   "source": [
    "<hr><h4>The isalpha() method returns </h4>\n",
    "   <ul>\n",
    "    <li>\n",
    "    True if all characters in the string are alphabets.\n",
    "    If not, it returns False."
   ]
  },
  {
   "cell_type": "markdown",
   "metadata": {},
   "source": [
    "<hr><h4>The isdecimal() method returns </h4>\n",
    "   <ul>\n",
    "    <li>\n",
    "    True if all characters in the string are decimal\n",
    "    If not, it returns False."
   ]
  },
  {
   "cell_type": "markdown",
   "metadata": {},
   "source": [
    "<hr><h4>The isdigit() method returns </h4>\n",
    "   <ul>\n",
    "    <li>\n",
    "    True if all characters in the string are digits.\n",
    "    If not, it returns False."
   ]
  },
  {
   "cell_type": "markdown",
   "metadata": {},
   "source": [
    "<hr><h4>The isidentifier() method returns </h4>\n",
    "   <ul>\n",
    "    <li>\n",
    "    True if all characters in the string are aceeptable variables name in python.\n",
    "    If not, it returns False."
   ]
  },
  {
   "cell_type": "markdown",
   "metadata": {},
   "source": [
    "<hr><h4>The isslower() method returns </h4>\n",
    "   <ul>\n",
    "    <li>\n",
    "    True if all characters in the string contains small letters of alphabets.\n",
    "    If not, it returns False."
   ]
  },
  {
   "cell_type": "markdown",
   "metadata": {},
   "source": [
    "<b> <hr> <hr> </b>\n",
    "\n",
    "<b> A numeric character has following properties:\n",
    "<ul>\n",
    "<li>\n",
    "Numeric_Type=Decimal   </li>\n",
    "    \n",
    " <li> Numeric_Type=Digit   </li>\n",
    "    \n",
    " <li> Numeric_Type=Numeric   </li>\n",
    "    \n",
    " </ul>\n",
    " \n",
    " <hr><h4>The isnumeric() method returns </h4>\n",
    "   <ul>\n",
    "    <li>\n",
    "    True if all characters in the string contains numeric values.\n",
    "    If not, it returns False.\n",
    "    "
   ]
  },
  {
   "cell_type": "markdown",
   "metadata": {},
   "source": [
    "<hr><h4>The isupper() method returns </h4>\n",
    "   <ul>\n",
    "    <li>\n",
    "    True if all characters in the string contains upper letters\n",
    "    If not, it returns False."
   ]
  },
  {
   "cell_type": "markdown",
   "metadata": {},
   "source": [
    "<hr><h4>The join() method returns </h4>\n",
    "   <ul>\n",
    "    <li> It joins the items of Iterable Data Types : Lists, strings, Tupels\n",
    "        "
   ]
  },
  {
   "cell_type": "code",
   "execution_count": 75,
   "metadata": {},
   "outputs": [],
   "source": [
    "s =['1','2','3']\n",
    "s2 = ['3','1','4']"
   ]
  },
  {
   "cell_type": "code",
   "execution_count": 76,
   "metadata": {},
   "outputs": [],
   "source": [
    "str = \"+\""
   ]
  },
  {
   "cell_type": "code",
   "execution_count": 77,
   "metadata": {},
   "outputs": [
    {
     "data": {
      "text/plain": [
       "'1+2+3'"
      ]
     },
     "execution_count": 77,
     "metadata": {},
     "output_type": "execute_result"
    }
   ],
   "source": [
    "str.join(s)"
   ]
  },
  {
   "cell_type": "code",
   "execution_count": 78,
   "metadata": {},
   "outputs": [],
   "source": [
    "s= 'saad'\n",
    "s2 ='farooq'"
   ]
  },
  {
   "cell_type": "code",
   "execution_count": 79,
   "metadata": {},
   "outputs": [
    {
     "data": {
      "text/plain": [
       "'fsaadasaadrsaadosaadosaadq'"
      ]
     },
     "execution_count": 79,
     "metadata": {},
     "output_type": "execute_result"
    }
   ],
   "source": [
    "#\"\"\" Each character of s2 is concatenated to the front of s1\"\"\" \n",
    "s.join(s2)"
   ]
  },
  {
   "cell_type": "code",
   "execution_count": 80,
   "metadata": {},
   "outputs": [
    {
     "name": "stdout",
     "output_type": "stream",
     "text": [
      "{97: '123', 98: '456', 99: '789'}\n",
      "{97: '123', 98: '456', 99: '789'}\n"
     ]
    }
   ],
   "source": [
    "dict = {\"a\": \"123\", \"b\": \"456\", \"c\": \"789\"}\n",
    "string = \"abc\"\n",
    "print(string.maketrans(dict))\n",
    "\n",
    "# example dictionary\n",
    "dict = {97: \"123\", 98: \"456\", 99: \"789\"}\n",
    "string = \"abc\"\n",
    "print(string.maketrans(dict))"
   ]
  },
  {
   "cell_type": "markdown",
   "metadata": {},
   "source": [
    "<hr> <hr> <hr><b> The ljust() method takes two parameters </b>:\n",
    "\n",
    "<b> width - width of the given string. If width is less than or equal to the length of the string, original string is returned.\n",
    "fillchar (Optional) - character to fill the remaining space of the width </b>"
   ]
  },
  {
   "cell_type": "code",
   "execution_count": 81,
   "metadata": {},
   "outputs": [
    {
     "name": "stdout",
     "output_type": "stream",
     "text": [
      "catsaad   \n"
     ]
    }
   ],
   "source": [
    "# example string\n",
    "string = 'catsaad'\n",
    "width = 10\n",
    "\n",
    "# print left justified string\n",
    "print(string.ljust(width))"
   ]
  },
  {
   "cell_type": "code",
   "execution_count": 82,
   "metadata": {},
   "outputs": [
    {
     "name": "stdout",
     "output_type": "stream",
     "text": [
      "cat**\n"
     ]
    }
   ],
   "source": [
    "# example string\n",
    "string = 'cat'\n",
    "width = 5\n",
    "fillchar = '*'\n",
    "\n",
    "# print left justified string\n",
    "print(string.ljust(width, fillchar))"
   ]
  },
  {
   "cell_type": "markdown",
   "metadata": {},
   "source": [
    "<hr> <hr> <hr><b> The rjust() method takes two parameters </b>:\n",
    "\n",
    "<b> width - width of the given string. If width is less than or equal to the length of the string, original string is returned.\n",
    "fillchar (Optional) - character to fill the remaining space of the width </b"
   ]
  },
  {
   "cell_type": "code",
   "execution_count": 83,
   "metadata": {},
   "outputs": [
    {
     "name": "stdout",
     "output_type": "stream",
     "text": [
      "**cat\n"
     ]
    }
   ],
   "source": [
    "# example string\n",
    "string = 'cat'\n",
    "width = 5\n",
    "fillchar = '*'\n",
    "\n",
    "# print right justified string\n",
    "print(string.rjust(width, fillchar))"
   ]
  },
  {
   "cell_type": "markdown",
   "metadata": {},
   "source": [
    "<hr> <hr> <hr><b> The swapcase() Converst all the upper case to lower and lower to upper</b>:"
   ]
  },
  {
   "cell_type": "code",
   "execution_count": 84,
   "metadata": {},
   "outputs": [
    {
     "name": "stdout",
     "output_type": "stream",
     "text": [
      "this should all be lowercase.\n",
      "THIS SHOULD ALL BE UPPERCASE.\n",
      "tHiS sHoUlD bE mIxEd CaSeD.\n"
     ]
    }
   ],
   "source": [
    "# example string\n",
    "string = \"THIS SHOULD ALL BE LOWERCASE.\"\n",
    "print(string.swapcase())\n",
    "\n",
    "string = \"this should all be uppercase.\"\n",
    "print(string.swapcase())\n",
    "\n",
    "string = \"ThIs ShOuLd Be MiXeD cAsEd.\"\n",
    "print(string.swapcase())"
   ]
  },
  {
   "cell_type": "markdown",
   "metadata": {},
   "source": [
    "<hr> <hr> <hr><b> The strip() removes the space from left and right </b>:\n",
    "    <ul>\n",
    "    <li> rstrip() removes from right\n",
    "    <li> lstrip removes from left\n",
    "    </ul>"
   ]
  },
  {
   "cell_type": "code",
   "execution_count": 85,
   "metadata": {},
   "outputs": [
    {
     "name": "stdout",
     "output_type": "stream",
     "text": [
      "xoxo love xoxo\n",
      "lov\n",
      " xoxo love xoxo   \n",
      "droid is awesome\n"
     ]
    }
   ],
   "source": [
    "string = ' xoxo love xoxo   '\n",
    "\n",
    "# Leading whitepsace are removed\n",
    "print(string.strip())\n",
    "\n",
    "print(string.strip(' xoxoe'))\n",
    "\n",
    "# Argument doesn't contain space\n",
    "# No characters are removed.\n",
    "print(string.strip('sti'))\n",
    "\n",
    "string = 'android is awesome'\n",
    "print(string.strip('an'))"
   ]
  },
  {
   "cell_type": "code",
   "execution_count": null,
   "metadata": {},
   "outputs": [],
   "source": []
  }
 ],
 "metadata": {
  "kernelspec": {
   "display_name": "Python 3",
   "language": "python",
   "name": "python3"
  },
  "language_info": {
   "codemirror_mode": {
    "name": "ipython",
    "version": 3
   },
   "file_extension": ".py",
   "mimetype": "text/x-python",
   "name": "python",
   "nbconvert_exporter": "python",
   "pygments_lexer": "ipython3",
   "version": "3.7.3"
  }
 },
 "nbformat": 4,
 "nbformat_minor": 2
}
